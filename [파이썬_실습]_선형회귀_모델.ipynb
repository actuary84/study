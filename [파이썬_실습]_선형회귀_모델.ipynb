{
  "nbformat": 4,
  "nbformat_minor": 0,
  "metadata": {
    "colab": {
      "provenance": [],
      "toc_visible": true,
      "authorship_tag": "ABX9TyPwcpKoAlSCjvuUEyyzIvgk",
      "include_colab_link": true
    },
    "kernelspec": {
      "name": "python3",
      "display_name": "Python 3"
    },
    "language_info": {
      "name": "python"
    }
  },
  "cells": [
    {
      "cell_type": "markdown",
      "metadata": {
        "id": "view-in-github",
        "colab_type": "text"
      },
      "source": [
        "<a href=\"https://colab.research.google.com/github/actuary84/study/blob/main/%5B%ED%8C%8C%EC%9D%B4%EC%8D%AC_%EC%8B%A4%EC%8A%B5%5D_%EC%84%A0%ED%98%95%ED%9A%8C%EA%B7%80_%EB%AA%A8%EB%8D%B8.ipynb\" target=\"_parent\"><img src=\"https://colab.research.google.com/assets/colab-badge.svg\" alt=\"Open In Colab\"/></a>"
      ]
    },
    {
      "cell_type": "markdown",
      "source": [
        "##선형 회귀 모델\n",
        "- https://youtu.be/DknCnKdyP6k\n",
        "- 일반적으로 데이터분석에는 sklearn을 더 많이 사용하나, statsmodels의 summary 기능이 통계량을 더 잘 정리해서 출력해주기 때문에 statsmodels를 사용함"
      ],
      "metadata": {
        "id": "qPnyfBTjX3-D"
      }
    },
    {
      "cell_type": "code",
      "source": [
        "#한글 폰트 설정 (런타임 다시시작 필요, Ctrl+M)\n",
        "!sudo apt-get install -y fonts-nanum\n",
        "!sudo fc-cache -fv\n",
        "!rm ~/.cache/matplotlib -rf"
      ],
      "metadata": {
        "colab": {
          "base_uri": "https://localhost:8080/"
        },
        "id": "HV4vksSMq18u",
        "outputId": "0704e016-a0b8-4659-f974-101d18f4ad3c"
      },
      "execution_count": 50,
      "outputs": [
        {
          "output_type": "stream",
          "name": "stdout",
          "text": [
            "Reading package lists... Done\n",
            "Building dependency tree       \n",
            "Reading state information... Done\n",
            "The following NEW packages will be installed:\n",
            "  fonts-nanum\n",
            "0 upgraded, 1 newly installed, 0 to remove and 38 not upgraded.\n",
            "Need to get 9,599 kB of archives.\n",
            "After this operation, 29.6 MB of additional disk space will be used.\n",
            "Get:1 http://archive.ubuntu.com/ubuntu focal/universe amd64 fonts-nanum all 20180306-3 [9,599 kB]\n",
            "Fetched 9,599 kB in 1s (9,338 kB/s)\n",
            "debconf: unable to initialize frontend: Dialog\n",
            "debconf: (No usable dialog-like program is installed, so the dialog based frontend cannot be used. at /usr/share/perl5/Debconf/FrontEnd/Dialog.pm line 76, <> line 1.)\n",
            "debconf: falling back to frontend: Readline\n",
            "debconf: unable to initialize frontend: Readline\n",
            "debconf: (This frontend requires a controlling tty.)\n",
            "debconf: falling back to frontend: Teletype\n",
            "dpkg-preconfigure: unable to re-open stdin: \n",
            "Selecting previously unselected package fonts-nanum.\n",
            "(Reading database ... 122541 files and directories currently installed.)\n",
            "Preparing to unpack .../fonts-nanum_20180306-3_all.deb ...\n",
            "Unpacking fonts-nanum (20180306-3) ...\n",
            "Setting up fonts-nanum (20180306-3) ...\n",
            "Processing triggers for fontconfig (2.13.1-2ubuntu3) ...\n",
            "/usr/share/fonts: caching, new cache contents: 0 fonts, 1 dirs\n",
            "/usr/share/fonts/truetype: caching, new cache contents: 0 fonts, 3 dirs\n",
            "/usr/share/fonts/truetype/humor-sans: caching, new cache contents: 1 fonts, 0 dirs\n",
            "/usr/share/fonts/truetype/liberation: caching, new cache contents: 16 fonts, 0 dirs\n",
            "/usr/share/fonts/truetype/nanum: caching, new cache contents: 10 fonts, 0 dirs\n",
            "/usr/local/share/fonts: caching, new cache contents: 0 fonts, 0 dirs\n",
            "/root/.local/share/fonts: skipping, no such directory\n",
            "/root/.fonts: skipping, no such directory\n",
            "/usr/share/fonts/truetype: skipping, looped directory detected\n",
            "/usr/share/fonts/truetype/humor-sans: skipping, looped directory detected\n",
            "/usr/share/fonts/truetype/liberation: skipping, looped directory detected\n",
            "/usr/share/fonts/truetype/nanum: skipping, looped directory detected\n",
            "/var/cache/fontconfig: cleaning cache directory\n",
            "/root/.cache/fontconfig: not cleaning non-existent cache directory\n",
            "/root/.fontconfig: not cleaning non-existent cache directory\n",
            "fc-cache: succeeded\n"
          ]
        }
      ]
    },
    {
      "cell_type": "markdown",
      "source": [
        "###1.데이터 불러오기"
      ],
      "metadata": {
        "id": "buhERl7lY-Ps"
      }
    },
    {
      "cell_type": "code",
      "source": [
        "import pandas as pd\n",
        "import numpy as np\n",
        "\n",
        "data_url = \"http://lib.stat.cmu.edu/datasets/boston\"\n",
        "raw_df = pd.read_csv(data_url, sep=\"\\s+\", skiprows=22, header=None)\n",
        "data = np.hstack([raw_df.values[::2, :], raw_df.values[1::2, :2]])\n",
        "target = raw_df.values[1::2, 2]\n",
        "\n",
        "import scipy as sp\n",
        "import scipy.stats as stats\n",
        "\n",
        "import statsmodels.api as sm\n",
        "from statsmodels.formula.api import ols\n",
        "\n",
        "from sklearn.model_selection import train_test_split\n",
        "from sklearn.metrics import mean_squared_error, r2_score, mean_absolute_error\n",
        "\n",
        "import seaborn as sns\n",
        "import matplotlib.pyplot as plt\n",
        "import matplotlib.font_manager as fm\n"
      ],
      "metadata": {
        "id": "RuCTTJ7JZCrk"
      },
      "execution_count": 1,
      "outputs": []
    },
    {
      "cell_type": "code",
      "source": [
        "data"
      ],
      "metadata": {
        "id": "2D3WuZAlcQrk"
      },
      "execution_count": null,
      "outputs": []
    },
    {
      "cell_type": "code",
      "source": [
        "target"
      ],
      "metadata": {
        "id": "G0Ykk3UNdJ5o"
      },
      "execution_count": null,
      "outputs": []
    },
    {
      "cell_type": "code",
      "source": [
        "feature_names = ['CRIM', 'ZN', 'INDUS', 'CHAS', 'NOX', 'RM', 'AGE', 'DIS', 'RAD', 'TAX', 'PTRATIO', 'B', 'LSTAT']"
      ],
      "metadata": {
        "id": "c7NFeWwgdFlS"
      },
      "execution_count": 2,
      "outputs": []
    },
    {
      "cell_type": "code",
      "source": [
        "X = pd.DataFrame(data,columns=feature_names)"
      ],
      "metadata": {
        "id": "EM9v_Dzfh0m6"
      },
      "execution_count": 3,
      "outputs": []
    },
    {
      "cell_type": "code",
      "source": [
        "X"
      ],
      "metadata": {
        "colab": {
          "base_uri": "https://localhost:8080/",
          "height": 424
        },
        "id": "-vuOHn1wiKcJ",
        "outputId": "f3816061-47fa-4936-ef4f-fc3910d5e657"
      },
      "execution_count": 37,
      "outputs": [
        {
          "output_type": "execute_result",
          "data": {
            "text/plain": [
              "        CRIM    ZN  INDUS  CHAS    NOX     RM   AGE     DIS  RAD    TAX  \\\n",
              "0    0.00632  18.0   2.31   0.0  0.538  6.575  65.2  4.0900  1.0  296.0   \n",
              "1    0.02731   0.0   7.07   0.0  0.469  6.421  78.9  4.9671  2.0  242.0   \n",
              "2    0.02729   0.0   7.07   0.0  0.469  7.185  61.1  4.9671  2.0  242.0   \n",
              "3    0.03237   0.0   2.18   0.0  0.458  6.998  45.8  6.0622  3.0  222.0   \n",
              "4    0.06905   0.0   2.18   0.0  0.458  7.147  54.2  6.0622  3.0  222.0   \n",
              "..       ...   ...    ...   ...    ...    ...   ...     ...  ...    ...   \n",
              "501  0.06263   0.0  11.93   0.0  0.573  6.593  69.1  2.4786  1.0  273.0   \n",
              "502  0.04527   0.0  11.93   0.0  0.573  6.120  76.7  2.2875  1.0  273.0   \n",
              "503  0.06076   0.0  11.93   0.0  0.573  6.976  91.0  2.1675  1.0  273.0   \n",
              "504  0.10959   0.0  11.93   0.0  0.573  6.794  89.3  2.3889  1.0  273.0   \n",
              "505  0.04741   0.0  11.93   0.0  0.573  6.030  80.8  2.5050  1.0  273.0   \n",
              "\n",
              "     PTRATIO       B  LSTAT  \n",
              "0       15.3  396.90   4.98  \n",
              "1       17.8  396.90   9.14  \n",
              "2       17.8  392.83   4.03  \n",
              "3       18.7  394.63   2.94  \n",
              "4       18.7  396.90   5.33  \n",
              "..       ...     ...    ...  \n",
              "501     21.0  391.99   9.67  \n",
              "502     21.0  396.90   9.08  \n",
              "503     21.0  396.90   5.64  \n",
              "504     21.0  393.45   6.48  \n",
              "505     21.0  396.90   7.88  \n",
              "\n",
              "[506 rows x 13 columns]"
            ],
            "text/html": [
              "\n",
              "  <div id=\"df-3a44f1eb-ef98-4344-98f2-de4062e0291c\">\n",
              "    <div class=\"colab-df-container\">\n",
              "      <div>\n",
              "<style scoped>\n",
              "    .dataframe tbody tr th:only-of-type {\n",
              "        vertical-align: middle;\n",
              "    }\n",
              "\n",
              "    .dataframe tbody tr th {\n",
              "        vertical-align: top;\n",
              "    }\n",
              "\n",
              "    .dataframe thead th {\n",
              "        text-align: right;\n",
              "    }\n",
              "</style>\n",
              "<table border=\"1\" class=\"dataframe\">\n",
              "  <thead>\n",
              "    <tr style=\"text-align: right;\">\n",
              "      <th></th>\n",
              "      <th>CRIM</th>\n",
              "      <th>ZN</th>\n",
              "      <th>INDUS</th>\n",
              "      <th>CHAS</th>\n",
              "      <th>NOX</th>\n",
              "      <th>RM</th>\n",
              "      <th>AGE</th>\n",
              "      <th>DIS</th>\n",
              "      <th>RAD</th>\n",
              "      <th>TAX</th>\n",
              "      <th>PTRATIO</th>\n",
              "      <th>B</th>\n",
              "      <th>LSTAT</th>\n",
              "    </tr>\n",
              "  </thead>\n",
              "  <tbody>\n",
              "    <tr>\n",
              "      <th>0</th>\n",
              "      <td>0.00632</td>\n",
              "      <td>18.0</td>\n",
              "      <td>2.31</td>\n",
              "      <td>0.0</td>\n",
              "      <td>0.538</td>\n",
              "      <td>6.575</td>\n",
              "      <td>65.2</td>\n",
              "      <td>4.0900</td>\n",
              "      <td>1.0</td>\n",
              "      <td>296.0</td>\n",
              "      <td>15.3</td>\n",
              "      <td>396.90</td>\n",
              "      <td>4.98</td>\n",
              "    </tr>\n",
              "    <tr>\n",
              "      <th>1</th>\n",
              "      <td>0.02731</td>\n",
              "      <td>0.0</td>\n",
              "      <td>7.07</td>\n",
              "      <td>0.0</td>\n",
              "      <td>0.469</td>\n",
              "      <td>6.421</td>\n",
              "      <td>78.9</td>\n",
              "      <td>4.9671</td>\n",
              "      <td>2.0</td>\n",
              "      <td>242.0</td>\n",
              "      <td>17.8</td>\n",
              "      <td>396.90</td>\n",
              "      <td>9.14</td>\n",
              "    </tr>\n",
              "    <tr>\n",
              "      <th>2</th>\n",
              "      <td>0.02729</td>\n",
              "      <td>0.0</td>\n",
              "      <td>7.07</td>\n",
              "      <td>0.0</td>\n",
              "      <td>0.469</td>\n",
              "      <td>7.185</td>\n",
              "      <td>61.1</td>\n",
              "      <td>4.9671</td>\n",
              "      <td>2.0</td>\n",
              "      <td>242.0</td>\n",
              "      <td>17.8</td>\n",
              "      <td>392.83</td>\n",
              "      <td>4.03</td>\n",
              "    </tr>\n",
              "    <tr>\n",
              "      <th>3</th>\n",
              "      <td>0.03237</td>\n",
              "      <td>0.0</td>\n",
              "      <td>2.18</td>\n",
              "      <td>0.0</td>\n",
              "      <td>0.458</td>\n",
              "      <td>6.998</td>\n",
              "      <td>45.8</td>\n",
              "      <td>6.0622</td>\n",
              "      <td>3.0</td>\n",
              "      <td>222.0</td>\n",
              "      <td>18.7</td>\n",
              "      <td>394.63</td>\n",
              "      <td>2.94</td>\n",
              "    </tr>\n",
              "    <tr>\n",
              "      <th>4</th>\n",
              "      <td>0.06905</td>\n",
              "      <td>0.0</td>\n",
              "      <td>2.18</td>\n",
              "      <td>0.0</td>\n",
              "      <td>0.458</td>\n",
              "      <td>7.147</td>\n",
              "      <td>54.2</td>\n",
              "      <td>6.0622</td>\n",
              "      <td>3.0</td>\n",
              "      <td>222.0</td>\n",
              "      <td>18.7</td>\n",
              "      <td>396.90</td>\n",
              "      <td>5.33</td>\n",
              "    </tr>\n",
              "    <tr>\n",
              "      <th>...</th>\n",
              "      <td>...</td>\n",
              "      <td>...</td>\n",
              "      <td>...</td>\n",
              "      <td>...</td>\n",
              "      <td>...</td>\n",
              "      <td>...</td>\n",
              "      <td>...</td>\n",
              "      <td>...</td>\n",
              "      <td>...</td>\n",
              "      <td>...</td>\n",
              "      <td>...</td>\n",
              "      <td>...</td>\n",
              "      <td>...</td>\n",
              "    </tr>\n",
              "    <tr>\n",
              "      <th>501</th>\n",
              "      <td>0.06263</td>\n",
              "      <td>0.0</td>\n",
              "      <td>11.93</td>\n",
              "      <td>0.0</td>\n",
              "      <td>0.573</td>\n",
              "      <td>6.593</td>\n",
              "      <td>69.1</td>\n",
              "      <td>2.4786</td>\n",
              "      <td>1.0</td>\n",
              "      <td>273.0</td>\n",
              "      <td>21.0</td>\n",
              "      <td>391.99</td>\n",
              "      <td>9.67</td>\n",
              "    </tr>\n",
              "    <tr>\n",
              "      <th>502</th>\n",
              "      <td>0.04527</td>\n",
              "      <td>0.0</td>\n",
              "      <td>11.93</td>\n",
              "      <td>0.0</td>\n",
              "      <td>0.573</td>\n",
              "      <td>6.120</td>\n",
              "      <td>76.7</td>\n",
              "      <td>2.2875</td>\n",
              "      <td>1.0</td>\n",
              "      <td>273.0</td>\n",
              "      <td>21.0</td>\n",
              "      <td>396.90</td>\n",
              "      <td>9.08</td>\n",
              "    </tr>\n",
              "    <tr>\n",
              "      <th>503</th>\n",
              "      <td>0.06076</td>\n",
              "      <td>0.0</td>\n",
              "      <td>11.93</td>\n",
              "      <td>0.0</td>\n",
              "      <td>0.573</td>\n",
              "      <td>6.976</td>\n",
              "      <td>91.0</td>\n",
              "      <td>2.1675</td>\n",
              "      <td>1.0</td>\n",
              "      <td>273.0</td>\n",
              "      <td>21.0</td>\n",
              "      <td>396.90</td>\n",
              "      <td>5.64</td>\n",
              "    </tr>\n",
              "    <tr>\n",
              "      <th>504</th>\n",
              "      <td>0.10959</td>\n",
              "      <td>0.0</td>\n",
              "      <td>11.93</td>\n",
              "      <td>0.0</td>\n",
              "      <td>0.573</td>\n",
              "      <td>6.794</td>\n",
              "      <td>89.3</td>\n",
              "      <td>2.3889</td>\n",
              "      <td>1.0</td>\n",
              "      <td>273.0</td>\n",
              "      <td>21.0</td>\n",
              "      <td>393.45</td>\n",
              "      <td>6.48</td>\n",
              "    </tr>\n",
              "    <tr>\n",
              "      <th>505</th>\n",
              "      <td>0.04741</td>\n",
              "      <td>0.0</td>\n",
              "      <td>11.93</td>\n",
              "      <td>0.0</td>\n",
              "      <td>0.573</td>\n",
              "      <td>6.030</td>\n",
              "      <td>80.8</td>\n",
              "      <td>2.5050</td>\n",
              "      <td>1.0</td>\n",
              "      <td>273.0</td>\n",
              "      <td>21.0</td>\n",
              "      <td>396.90</td>\n",
              "      <td>7.88</td>\n",
              "    </tr>\n",
              "  </tbody>\n",
              "</table>\n",
              "<p>506 rows × 13 columns</p>\n",
              "</div>\n",
              "      <button class=\"colab-df-convert\" onclick=\"convertToInteractive('df-3a44f1eb-ef98-4344-98f2-de4062e0291c')\"\n",
              "              title=\"Convert this dataframe to an interactive table.\"\n",
              "              style=\"display:none;\">\n",
              "        \n",
              "  <svg xmlns=\"http://www.w3.org/2000/svg\" height=\"24px\"viewBox=\"0 0 24 24\"\n",
              "       width=\"24px\">\n",
              "    <path d=\"M0 0h24v24H0V0z\" fill=\"none\"/>\n",
              "    <path d=\"M18.56 5.44l.94 2.06.94-2.06 2.06-.94-2.06-.94-.94-2.06-.94 2.06-2.06.94zm-11 1L8.5 8.5l.94-2.06 2.06-.94-2.06-.94L8.5 2.5l-.94 2.06-2.06.94zm10 10l.94 2.06.94-2.06 2.06-.94-2.06-.94-.94-2.06-.94 2.06-2.06.94z\"/><path d=\"M17.41 7.96l-1.37-1.37c-.4-.4-.92-.59-1.43-.59-.52 0-1.04.2-1.43.59L10.3 9.45l-7.72 7.72c-.78.78-.78 2.05 0 2.83L4 21.41c.39.39.9.59 1.41.59.51 0 1.02-.2 1.41-.59l7.78-7.78 2.81-2.81c.8-.78.8-2.07 0-2.86zM5.41 20L4 18.59l7.72-7.72 1.47 1.35L5.41 20z\"/>\n",
              "  </svg>\n",
              "      </button>\n",
              "      \n",
              "  <style>\n",
              "    .colab-df-container {\n",
              "      display:flex;\n",
              "      flex-wrap:wrap;\n",
              "      gap: 12px;\n",
              "    }\n",
              "\n",
              "    .colab-df-convert {\n",
              "      background-color: #E8F0FE;\n",
              "      border: none;\n",
              "      border-radius: 50%;\n",
              "      cursor: pointer;\n",
              "      display: none;\n",
              "      fill: #1967D2;\n",
              "      height: 32px;\n",
              "      padding: 0 0 0 0;\n",
              "      width: 32px;\n",
              "    }\n",
              "\n",
              "    .colab-df-convert:hover {\n",
              "      background-color: #E2EBFA;\n",
              "      box-shadow: 0px 1px 2px rgba(60, 64, 67, 0.3), 0px 1px 3px 1px rgba(60, 64, 67, 0.15);\n",
              "      fill: #174EA6;\n",
              "    }\n",
              "\n",
              "    [theme=dark] .colab-df-convert {\n",
              "      background-color: #3B4455;\n",
              "      fill: #D2E3FC;\n",
              "    }\n",
              "\n",
              "    [theme=dark] .colab-df-convert:hover {\n",
              "      background-color: #434B5C;\n",
              "      box-shadow: 0px 1px 3px 1px rgba(0, 0, 0, 0.15);\n",
              "      filter: drop-shadow(0px 1px 2px rgba(0, 0, 0, 0.3));\n",
              "      fill: #FFFFFF;\n",
              "    }\n",
              "  </style>\n",
              "\n",
              "      <script>\n",
              "        const buttonEl =\n",
              "          document.querySelector('#df-3a44f1eb-ef98-4344-98f2-de4062e0291c button.colab-df-convert');\n",
              "        buttonEl.style.display =\n",
              "          google.colab.kernel.accessAllowed ? 'block' : 'none';\n",
              "\n",
              "        async function convertToInteractive(key) {\n",
              "          const element = document.querySelector('#df-3a44f1eb-ef98-4344-98f2-de4062e0291c');\n",
              "          const dataTable =\n",
              "            await google.colab.kernel.invokeFunction('convertToInteractive',\n",
              "                                                     [key], {});\n",
              "          if (!dataTable) return;\n",
              "\n",
              "          const docLinkHtml = 'Like what you see? Visit the ' +\n",
              "            '<a target=\"_blank\" href=https://colab.research.google.com/notebooks/data_table.ipynb>data table notebook</a>'\n",
              "            + ' to learn more about interactive tables.';\n",
              "          element.innerHTML = '';\n",
              "          dataTable['output_type'] = 'display_data';\n",
              "          await google.colab.output.renderOutput(dataTable, element);\n",
              "          const docLink = document.createElement('div');\n",
              "          docLink.innerHTML = docLinkHtml;\n",
              "          element.appendChild(docLink);\n",
              "        }\n",
              "      </script>\n",
              "    </div>\n",
              "  </div>\n",
              "  "
            ]
          },
          "metadata": {},
          "execution_count": 37
        }
      ]
    },
    {
      "cell_type": "code",
      "source": [
        "y=pd.DataFrame(target,columns=['MEDV'])"
      ],
      "metadata": {
        "id": "OBjfXgRhiTsl"
      },
      "execution_count": 4,
      "outputs": []
    },
    {
      "cell_type": "code",
      "source": [
        "y"
      ],
      "metadata": {
        "colab": {
          "base_uri": "https://localhost:8080/",
          "height": 424
        },
        "id": "4SfpkYJYighm",
        "outputId": "f7da2562-e663-4a52-a4ba-93580813b366"
      },
      "execution_count": 40,
      "outputs": [
        {
          "output_type": "execute_result",
          "data": {
            "text/plain": [
              "     MEDV\n",
              "0    24.0\n",
              "1    21.6\n",
              "2    34.7\n",
              "3    33.4\n",
              "4    36.2\n",
              "..    ...\n",
              "501  22.4\n",
              "502  20.6\n",
              "503  23.9\n",
              "504  22.0\n",
              "505  11.9\n",
              "\n",
              "[506 rows x 1 columns]"
            ],
            "text/html": [
              "\n",
              "  <div id=\"df-4c7cc5d5-0d53-4e07-a5dd-e97e15b78951\">\n",
              "    <div class=\"colab-df-container\">\n",
              "      <div>\n",
              "<style scoped>\n",
              "    .dataframe tbody tr th:only-of-type {\n",
              "        vertical-align: middle;\n",
              "    }\n",
              "\n",
              "    .dataframe tbody tr th {\n",
              "        vertical-align: top;\n",
              "    }\n",
              "\n",
              "    .dataframe thead th {\n",
              "        text-align: right;\n",
              "    }\n",
              "</style>\n",
              "<table border=\"1\" class=\"dataframe\">\n",
              "  <thead>\n",
              "    <tr style=\"text-align: right;\">\n",
              "      <th></th>\n",
              "      <th>MEDV</th>\n",
              "    </tr>\n",
              "  </thead>\n",
              "  <tbody>\n",
              "    <tr>\n",
              "      <th>0</th>\n",
              "      <td>24.0</td>\n",
              "    </tr>\n",
              "    <tr>\n",
              "      <th>1</th>\n",
              "      <td>21.6</td>\n",
              "    </tr>\n",
              "    <tr>\n",
              "      <th>2</th>\n",
              "      <td>34.7</td>\n",
              "    </tr>\n",
              "    <tr>\n",
              "      <th>3</th>\n",
              "      <td>33.4</td>\n",
              "    </tr>\n",
              "    <tr>\n",
              "      <th>4</th>\n",
              "      <td>36.2</td>\n",
              "    </tr>\n",
              "    <tr>\n",
              "      <th>...</th>\n",
              "      <td>...</td>\n",
              "    </tr>\n",
              "    <tr>\n",
              "      <th>501</th>\n",
              "      <td>22.4</td>\n",
              "    </tr>\n",
              "    <tr>\n",
              "      <th>502</th>\n",
              "      <td>20.6</td>\n",
              "    </tr>\n",
              "    <tr>\n",
              "      <th>503</th>\n",
              "      <td>23.9</td>\n",
              "    </tr>\n",
              "    <tr>\n",
              "      <th>504</th>\n",
              "      <td>22.0</td>\n",
              "    </tr>\n",
              "    <tr>\n",
              "      <th>505</th>\n",
              "      <td>11.9</td>\n",
              "    </tr>\n",
              "  </tbody>\n",
              "</table>\n",
              "<p>506 rows × 1 columns</p>\n",
              "</div>\n",
              "      <button class=\"colab-df-convert\" onclick=\"convertToInteractive('df-4c7cc5d5-0d53-4e07-a5dd-e97e15b78951')\"\n",
              "              title=\"Convert this dataframe to an interactive table.\"\n",
              "              style=\"display:none;\">\n",
              "        \n",
              "  <svg xmlns=\"http://www.w3.org/2000/svg\" height=\"24px\"viewBox=\"0 0 24 24\"\n",
              "       width=\"24px\">\n",
              "    <path d=\"M0 0h24v24H0V0z\" fill=\"none\"/>\n",
              "    <path d=\"M18.56 5.44l.94 2.06.94-2.06 2.06-.94-2.06-.94-.94-2.06-.94 2.06-2.06.94zm-11 1L8.5 8.5l.94-2.06 2.06-.94-2.06-.94L8.5 2.5l-.94 2.06-2.06.94zm10 10l.94 2.06.94-2.06 2.06-.94-2.06-.94-.94-2.06-.94 2.06-2.06.94z\"/><path d=\"M17.41 7.96l-1.37-1.37c-.4-.4-.92-.59-1.43-.59-.52 0-1.04.2-1.43.59L10.3 9.45l-7.72 7.72c-.78.78-.78 2.05 0 2.83L4 21.41c.39.39.9.59 1.41.59.51 0 1.02-.2 1.41-.59l7.78-7.78 2.81-2.81c.8-.78.8-2.07 0-2.86zM5.41 20L4 18.59l7.72-7.72 1.47 1.35L5.41 20z\"/>\n",
              "  </svg>\n",
              "      </button>\n",
              "      \n",
              "  <style>\n",
              "    .colab-df-container {\n",
              "      display:flex;\n",
              "      flex-wrap:wrap;\n",
              "      gap: 12px;\n",
              "    }\n",
              "\n",
              "    .colab-df-convert {\n",
              "      background-color: #E8F0FE;\n",
              "      border: none;\n",
              "      border-radius: 50%;\n",
              "      cursor: pointer;\n",
              "      display: none;\n",
              "      fill: #1967D2;\n",
              "      height: 32px;\n",
              "      padding: 0 0 0 0;\n",
              "      width: 32px;\n",
              "    }\n",
              "\n",
              "    .colab-df-convert:hover {\n",
              "      background-color: #E2EBFA;\n",
              "      box-shadow: 0px 1px 2px rgba(60, 64, 67, 0.3), 0px 1px 3px 1px rgba(60, 64, 67, 0.15);\n",
              "      fill: #174EA6;\n",
              "    }\n",
              "\n",
              "    [theme=dark] .colab-df-convert {\n",
              "      background-color: #3B4455;\n",
              "      fill: #D2E3FC;\n",
              "    }\n",
              "\n",
              "    [theme=dark] .colab-df-convert:hover {\n",
              "      background-color: #434B5C;\n",
              "      box-shadow: 0px 1px 3px 1px rgba(0, 0, 0, 0.15);\n",
              "      filter: drop-shadow(0px 1px 2px rgba(0, 0, 0, 0.3));\n",
              "      fill: #FFFFFF;\n",
              "    }\n",
              "  </style>\n",
              "\n",
              "      <script>\n",
              "        const buttonEl =\n",
              "          document.querySelector('#df-4c7cc5d5-0d53-4e07-a5dd-e97e15b78951 button.colab-df-convert');\n",
              "        buttonEl.style.display =\n",
              "          google.colab.kernel.accessAllowed ? 'block' : 'none';\n",
              "\n",
              "        async function convertToInteractive(key) {\n",
              "          const element = document.querySelector('#df-4c7cc5d5-0d53-4e07-a5dd-e97e15b78951');\n",
              "          const dataTable =\n",
              "            await google.colab.kernel.invokeFunction('convertToInteractive',\n",
              "                                                     [key], {});\n",
              "          if (!dataTable) return;\n",
              "\n",
              "          const docLinkHtml = 'Like what you see? Visit the ' +\n",
              "            '<a target=\"_blank\" href=https://colab.research.google.com/notebooks/data_table.ipynb>data table notebook</a>'\n",
              "            + ' to learn more about interactive tables.';\n",
              "          element.innerHTML = '';\n",
              "          dataTable['output_type'] = 'display_data';\n",
              "          await google.colab.output.renderOutput(dataTable, element);\n",
              "          const docLink = document.createElement('div');\n",
              "          docLink.innerHTML = docLinkHtml;\n",
              "          element.appendChild(docLink);\n",
              "        }\n",
              "      </script>\n",
              "    </div>\n",
              "  </div>\n",
              "  "
            ]
          },
          "metadata": {},
          "execution_count": 40
        }
      ]
    },
    {
      "cell_type": "code",
      "source": [
        "X.head()"
      ],
      "metadata": {
        "colab": {
          "base_uri": "https://localhost:8080/",
          "height": 206
        },
        "id": "GCDuCBaxihLg",
        "outputId": "4c83a95c-60b2-4e3d-8a0b-40524ebebb72"
      },
      "execution_count": 41,
      "outputs": [
        {
          "output_type": "execute_result",
          "data": {
            "text/plain": [
              "      CRIM    ZN  INDUS  CHAS    NOX     RM   AGE     DIS  RAD    TAX  \\\n",
              "0  0.00632  18.0   2.31   0.0  0.538  6.575  65.2  4.0900  1.0  296.0   \n",
              "1  0.02731   0.0   7.07   0.0  0.469  6.421  78.9  4.9671  2.0  242.0   \n",
              "2  0.02729   0.0   7.07   0.0  0.469  7.185  61.1  4.9671  2.0  242.0   \n",
              "3  0.03237   0.0   2.18   0.0  0.458  6.998  45.8  6.0622  3.0  222.0   \n",
              "4  0.06905   0.0   2.18   0.0  0.458  7.147  54.2  6.0622  3.0  222.0   \n",
              "\n",
              "   PTRATIO       B  LSTAT  \n",
              "0     15.3  396.90   4.98  \n",
              "1     17.8  396.90   9.14  \n",
              "2     17.8  392.83   4.03  \n",
              "3     18.7  394.63   2.94  \n",
              "4     18.7  396.90   5.33  "
            ],
            "text/html": [
              "\n",
              "  <div id=\"df-a0724d08-bb27-4453-85b2-4e10a327bf8e\">\n",
              "    <div class=\"colab-df-container\">\n",
              "      <div>\n",
              "<style scoped>\n",
              "    .dataframe tbody tr th:only-of-type {\n",
              "        vertical-align: middle;\n",
              "    }\n",
              "\n",
              "    .dataframe tbody tr th {\n",
              "        vertical-align: top;\n",
              "    }\n",
              "\n",
              "    .dataframe thead th {\n",
              "        text-align: right;\n",
              "    }\n",
              "</style>\n",
              "<table border=\"1\" class=\"dataframe\">\n",
              "  <thead>\n",
              "    <tr style=\"text-align: right;\">\n",
              "      <th></th>\n",
              "      <th>CRIM</th>\n",
              "      <th>ZN</th>\n",
              "      <th>INDUS</th>\n",
              "      <th>CHAS</th>\n",
              "      <th>NOX</th>\n",
              "      <th>RM</th>\n",
              "      <th>AGE</th>\n",
              "      <th>DIS</th>\n",
              "      <th>RAD</th>\n",
              "      <th>TAX</th>\n",
              "      <th>PTRATIO</th>\n",
              "      <th>B</th>\n",
              "      <th>LSTAT</th>\n",
              "    </tr>\n",
              "  </thead>\n",
              "  <tbody>\n",
              "    <tr>\n",
              "      <th>0</th>\n",
              "      <td>0.00632</td>\n",
              "      <td>18.0</td>\n",
              "      <td>2.31</td>\n",
              "      <td>0.0</td>\n",
              "      <td>0.538</td>\n",
              "      <td>6.575</td>\n",
              "      <td>65.2</td>\n",
              "      <td>4.0900</td>\n",
              "      <td>1.0</td>\n",
              "      <td>296.0</td>\n",
              "      <td>15.3</td>\n",
              "      <td>396.90</td>\n",
              "      <td>4.98</td>\n",
              "    </tr>\n",
              "    <tr>\n",
              "      <th>1</th>\n",
              "      <td>0.02731</td>\n",
              "      <td>0.0</td>\n",
              "      <td>7.07</td>\n",
              "      <td>0.0</td>\n",
              "      <td>0.469</td>\n",
              "      <td>6.421</td>\n",
              "      <td>78.9</td>\n",
              "      <td>4.9671</td>\n",
              "      <td>2.0</td>\n",
              "      <td>242.0</td>\n",
              "      <td>17.8</td>\n",
              "      <td>396.90</td>\n",
              "      <td>9.14</td>\n",
              "    </tr>\n",
              "    <tr>\n",
              "      <th>2</th>\n",
              "      <td>0.02729</td>\n",
              "      <td>0.0</td>\n",
              "      <td>7.07</td>\n",
              "      <td>0.0</td>\n",
              "      <td>0.469</td>\n",
              "      <td>7.185</td>\n",
              "      <td>61.1</td>\n",
              "      <td>4.9671</td>\n",
              "      <td>2.0</td>\n",
              "      <td>242.0</td>\n",
              "      <td>17.8</td>\n",
              "      <td>392.83</td>\n",
              "      <td>4.03</td>\n",
              "    </tr>\n",
              "    <tr>\n",
              "      <th>3</th>\n",
              "      <td>0.03237</td>\n",
              "      <td>0.0</td>\n",
              "      <td>2.18</td>\n",
              "      <td>0.0</td>\n",
              "      <td>0.458</td>\n",
              "      <td>6.998</td>\n",
              "      <td>45.8</td>\n",
              "      <td>6.0622</td>\n",
              "      <td>3.0</td>\n",
              "      <td>222.0</td>\n",
              "      <td>18.7</td>\n",
              "      <td>394.63</td>\n",
              "      <td>2.94</td>\n",
              "    </tr>\n",
              "    <tr>\n",
              "      <th>4</th>\n",
              "      <td>0.06905</td>\n",
              "      <td>0.0</td>\n",
              "      <td>2.18</td>\n",
              "      <td>0.0</td>\n",
              "      <td>0.458</td>\n",
              "      <td>7.147</td>\n",
              "      <td>54.2</td>\n",
              "      <td>6.0622</td>\n",
              "      <td>3.0</td>\n",
              "      <td>222.0</td>\n",
              "      <td>18.7</td>\n",
              "      <td>396.90</td>\n",
              "      <td>5.33</td>\n",
              "    </tr>\n",
              "  </tbody>\n",
              "</table>\n",
              "</div>\n",
              "      <button class=\"colab-df-convert\" onclick=\"convertToInteractive('df-a0724d08-bb27-4453-85b2-4e10a327bf8e')\"\n",
              "              title=\"Convert this dataframe to an interactive table.\"\n",
              "              style=\"display:none;\">\n",
              "        \n",
              "  <svg xmlns=\"http://www.w3.org/2000/svg\" height=\"24px\"viewBox=\"0 0 24 24\"\n",
              "       width=\"24px\">\n",
              "    <path d=\"M0 0h24v24H0V0z\" fill=\"none\"/>\n",
              "    <path d=\"M18.56 5.44l.94 2.06.94-2.06 2.06-.94-2.06-.94-.94-2.06-.94 2.06-2.06.94zm-11 1L8.5 8.5l.94-2.06 2.06-.94-2.06-.94L8.5 2.5l-.94 2.06-2.06.94zm10 10l.94 2.06.94-2.06 2.06-.94-2.06-.94-.94-2.06-.94 2.06-2.06.94z\"/><path d=\"M17.41 7.96l-1.37-1.37c-.4-.4-.92-.59-1.43-.59-.52 0-1.04.2-1.43.59L10.3 9.45l-7.72 7.72c-.78.78-.78 2.05 0 2.83L4 21.41c.39.39.9.59 1.41.59.51 0 1.02-.2 1.41-.59l7.78-7.78 2.81-2.81c.8-.78.8-2.07 0-2.86zM5.41 20L4 18.59l7.72-7.72 1.47 1.35L5.41 20z\"/>\n",
              "  </svg>\n",
              "      </button>\n",
              "      \n",
              "  <style>\n",
              "    .colab-df-container {\n",
              "      display:flex;\n",
              "      flex-wrap:wrap;\n",
              "      gap: 12px;\n",
              "    }\n",
              "\n",
              "    .colab-df-convert {\n",
              "      background-color: #E8F0FE;\n",
              "      border: none;\n",
              "      border-radius: 50%;\n",
              "      cursor: pointer;\n",
              "      display: none;\n",
              "      fill: #1967D2;\n",
              "      height: 32px;\n",
              "      padding: 0 0 0 0;\n",
              "      width: 32px;\n",
              "    }\n",
              "\n",
              "    .colab-df-convert:hover {\n",
              "      background-color: #E2EBFA;\n",
              "      box-shadow: 0px 1px 2px rgba(60, 64, 67, 0.3), 0px 1px 3px 1px rgba(60, 64, 67, 0.15);\n",
              "      fill: #174EA6;\n",
              "    }\n",
              "\n",
              "    [theme=dark] .colab-df-convert {\n",
              "      background-color: #3B4455;\n",
              "      fill: #D2E3FC;\n",
              "    }\n",
              "\n",
              "    [theme=dark] .colab-df-convert:hover {\n",
              "      background-color: #434B5C;\n",
              "      box-shadow: 0px 1px 3px 1px rgba(0, 0, 0, 0.15);\n",
              "      filter: drop-shadow(0px 1px 2px rgba(0, 0, 0, 0.3));\n",
              "      fill: #FFFFFF;\n",
              "    }\n",
              "  </style>\n",
              "\n",
              "      <script>\n",
              "        const buttonEl =\n",
              "          document.querySelector('#df-a0724d08-bb27-4453-85b2-4e10a327bf8e button.colab-df-convert');\n",
              "        buttonEl.style.display =\n",
              "          google.colab.kernel.accessAllowed ? 'block' : 'none';\n",
              "\n",
              "        async function convertToInteractive(key) {\n",
              "          const element = document.querySelector('#df-a0724d08-bb27-4453-85b2-4e10a327bf8e');\n",
              "          const dataTable =\n",
              "            await google.colab.kernel.invokeFunction('convertToInteractive',\n",
              "                                                     [key], {});\n",
              "          if (!dataTable) return;\n",
              "\n",
              "          const docLinkHtml = 'Like what you see? Visit the ' +\n",
              "            '<a target=\"_blank\" href=https://colab.research.google.com/notebooks/data_table.ipynb>data table notebook</a>'\n",
              "            + ' to learn more about interactive tables.';\n",
              "          element.innerHTML = '';\n",
              "          dataTable['output_type'] = 'display_data';\n",
              "          await google.colab.output.renderOutput(dataTable, element);\n",
              "          const docLink = document.createElement('div');\n",
              "          docLink.innerHTML = docLinkHtml;\n",
              "          element.appendChild(docLink);\n",
              "        }\n",
              "      </script>\n",
              "    </div>\n",
              "  </div>\n",
              "  "
            ]
          },
          "metadata": {},
          "execution_count": 41
        }
      ]
    },
    {
      "cell_type": "code",
      "source": [
        "y.head()"
      ],
      "metadata": {
        "colab": {
          "base_uri": "https://localhost:8080/",
          "height": 206
        },
        "id": "hMOO-V0UisJG",
        "outputId": "14a040ec-1d2f-4bfb-ed3f-c0fdfc96cfba"
      },
      "execution_count": 43,
      "outputs": [
        {
          "output_type": "execute_result",
          "data": {
            "text/plain": [
              "   MEDV\n",
              "0  24.0\n",
              "1  21.6\n",
              "2  34.7\n",
              "3  33.4\n",
              "4  36.2"
            ],
            "text/html": [
              "\n",
              "  <div id=\"df-87e1f654-12bf-45ab-a77b-9d49bef76408\">\n",
              "    <div class=\"colab-df-container\">\n",
              "      <div>\n",
              "<style scoped>\n",
              "    .dataframe tbody tr th:only-of-type {\n",
              "        vertical-align: middle;\n",
              "    }\n",
              "\n",
              "    .dataframe tbody tr th {\n",
              "        vertical-align: top;\n",
              "    }\n",
              "\n",
              "    .dataframe thead th {\n",
              "        text-align: right;\n",
              "    }\n",
              "</style>\n",
              "<table border=\"1\" class=\"dataframe\">\n",
              "  <thead>\n",
              "    <tr style=\"text-align: right;\">\n",
              "      <th></th>\n",
              "      <th>MEDV</th>\n",
              "    </tr>\n",
              "  </thead>\n",
              "  <tbody>\n",
              "    <tr>\n",
              "      <th>0</th>\n",
              "      <td>24.0</td>\n",
              "    </tr>\n",
              "    <tr>\n",
              "      <th>1</th>\n",
              "      <td>21.6</td>\n",
              "    </tr>\n",
              "    <tr>\n",
              "      <th>2</th>\n",
              "      <td>34.7</td>\n",
              "    </tr>\n",
              "    <tr>\n",
              "      <th>3</th>\n",
              "      <td>33.4</td>\n",
              "    </tr>\n",
              "    <tr>\n",
              "      <th>4</th>\n",
              "      <td>36.2</td>\n",
              "    </tr>\n",
              "  </tbody>\n",
              "</table>\n",
              "</div>\n",
              "      <button class=\"colab-df-convert\" onclick=\"convertToInteractive('df-87e1f654-12bf-45ab-a77b-9d49bef76408')\"\n",
              "              title=\"Convert this dataframe to an interactive table.\"\n",
              "              style=\"display:none;\">\n",
              "        \n",
              "  <svg xmlns=\"http://www.w3.org/2000/svg\" height=\"24px\"viewBox=\"0 0 24 24\"\n",
              "       width=\"24px\">\n",
              "    <path d=\"M0 0h24v24H0V0z\" fill=\"none\"/>\n",
              "    <path d=\"M18.56 5.44l.94 2.06.94-2.06 2.06-.94-2.06-.94-.94-2.06-.94 2.06-2.06.94zm-11 1L8.5 8.5l.94-2.06 2.06-.94-2.06-.94L8.5 2.5l-.94 2.06-2.06.94zm10 10l.94 2.06.94-2.06 2.06-.94-2.06-.94-.94-2.06-.94 2.06-2.06.94z\"/><path d=\"M17.41 7.96l-1.37-1.37c-.4-.4-.92-.59-1.43-.59-.52 0-1.04.2-1.43.59L10.3 9.45l-7.72 7.72c-.78.78-.78 2.05 0 2.83L4 21.41c.39.39.9.59 1.41.59.51 0 1.02-.2 1.41-.59l7.78-7.78 2.81-2.81c.8-.78.8-2.07 0-2.86zM5.41 20L4 18.59l7.72-7.72 1.47 1.35L5.41 20z\"/>\n",
              "  </svg>\n",
              "      </button>\n",
              "      \n",
              "  <style>\n",
              "    .colab-df-container {\n",
              "      display:flex;\n",
              "      flex-wrap:wrap;\n",
              "      gap: 12px;\n",
              "    }\n",
              "\n",
              "    .colab-df-convert {\n",
              "      background-color: #E8F0FE;\n",
              "      border: none;\n",
              "      border-radius: 50%;\n",
              "      cursor: pointer;\n",
              "      display: none;\n",
              "      fill: #1967D2;\n",
              "      height: 32px;\n",
              "      padding: 0 0 0 0;\n",
              "      width: 32px;\n",
              "    }\n",
              "\n",
              "    .colab-df-convert:hover {\n",
              "      background-color: #E2EBFA;\n",
              "      box-shadow: 0px 1px 2px rgba(60, 64, 67, 0.3), 0px 1px 3px 1px rgba(60, 64, 67, 0.15);\n",
              "      fill: #174EA6;\n",
              "    }\n",
              "\n",
              "    [theme=dark] .colab-df-convert {\n",
              "      background-color: #3B4455;\n",
              "      fill: #D2E3FC;\n",
              "    }\n",
              "\n",
              "    [theme=dark] .colab-df-convert:hover {\n",
              "      background-color: #434B5C;\n",
              "      box-shadow: 0px 1px 3px 1px rgba(0, 0, 0, 0.15);\n",
              "      filter: drop-shadow(0px 1px 2px rgba(0, 0, 0, 0.3));\n",
              "      fill: #FFFFFF;\n",
              "    }\n",
              "  </style>\n",
              "\n",
              "      <script>\n",
              "        const buttonEl =\n",
              "          document.querySelector('#df-87e1f654-12bf-45ab-a77b-9d49bef76408 button.colab-df-convert');\n",
              "        buttonEl.style.display =\n",
              "          google.colab.kernel.accessAllowed ? 'block' : 'none';\n",
              "\n",
              "        async function convertToInteractive(key) {\n",
              "          const element = document.querySelector('#df-87e1f654-12bf-45ab-a77b-9d49bef76408');\n",
              "          const dataTable =\n",
              "            await google.colab.kernel.invokeFunction('convertToInteractive',\n",
              "                                                     [key], {});\n",
              "          if (!dataTable) return;\n",
              "\n",
              "          const docLinkHtml = 'Like what you see? Visit the ' +\n",
              "            '<a target=\"_blank\" href=https://colab.research.google.com/notebooks/data_table.ipynb>data table notebook</a>'\n",
              "            + ' to learn more about interactive tables.';\n",
              "          element.innerHTML = '';\n",
              "          dataTable['output_type'] = 'display_data';\n",
              "          await google.colab.output.renderOutput(dataTable, element);\n",
              "          const docLink = document.createElement('div');\n",
              "          docLink.innerHTML = docLinkHtml;\n",
              "          element.appendChild(docLink);\n",
              "        }\n",
              "      </script>\n",
              "    </div>\n",
              "  </div>\n",
              "  "
            ]
          },
          "metadata": {},
          "execution_count": 43
        }
      ]
    },
    {
      "cell_type": "markdown",
      "source": [
        "###2.Train set / Test Set 나누기"
      ],
      "metadata": {
        "id": "nCQuenoVieKY"
      }
    },
    {
      "cell_type": "code",
      "source": [
        "X_train, X_test, y_train, y_test = train_test_split(X,y, test_size=0.2, random_state=2021) #test_size는 20~30%"
      ],
      "metadata": {
        "id": "PL__LMvPjULH"
      },
      "execution_count": 5,
      "outputs": []
    },
    {
      "cell_type": "markdown",
      "source": [
        "###3.선형회귀 모델 구축\n",
        "- statsmodel의 OLS를 사용: 잔차의 제곱합이 최소화 되는 파라미터를 구하는 방법\n",
        "- 모델 선언: model = sm.OLS(X데이터, y데이터)\n",
        "- 모델 학습: model_trained = model.fit()"
      ],
      "metadata": {
        "id": "s2xV9CoIjr7f"
      }
    },
    {
      "cell_type": "code",
      "source": [
        "#β0 추가(변수명 const,값은 1로 구성)\n",
        "X_train = sm.add_constant(X_train) \n",
        "\n",
        "#model fitting\n",
        "model = sm.OLS(y_train, X_train)\n",
        "model_trained = model.fit()"
      ],
      "metadata": {
        "id": "64H6liUHkR_G"
      },
      "execution_count": 6,
      "outputs": []
    },
    {
      "cell_type": "markdown",
      "source": [
        "###4.선형회귀 모델 가정"
      ],
      "metadata": {
        "id": "D8atoxsknXEY"
      }
    },
    {
      "cell_type": "markdown",
      "source": [
        "####4.1 확률 오차(Random error)의 정규성 확인\n"
      ],
      "metadata": {
        "id": "fn9aOv32okny"
      }
    },
    {
      "cell_type": "code",
      "source": [
        "model_residuals = model_trained.resid\n",
        "\n",
        "#폰트설정\n",
        "plt.rc('font', family='NanumBarunGothic')\n",
        "plt.rc('axes', unicode_minus=False)\n",
        "\n",
        "fig,ax = plt.subplots(1,1,figsize=(10,6))\n",
        "ax.set_title('QQ Plot')\n",
        "sm.qqplot(model_residuals,line='s',ax=ax) #점선과 직선이 일치할 수록 정규분포를 따른다\n",
        "plt.show()\n"
      ],
      "metadata": {
        "colab": {
          "base_uri": "https://localhost:8080/",
          "height": 563
        },
        "id": "x89hXnzro299",
        "outputId": "b1b9885a-9eff-4f00-caad-6e825a780f36"
      },
      "execution_count": 12,
      "outputs": [
        {
          "output_type": "display_data",
          "data": {
            "text/plain": [
              "<Figure size 1000x600 with 1 Axes>"
            ],
            "image/png": "[encoded data removed]"
          },
          "metadata": {}
        }
      ]
    },
    {
      "cell_type": "markdown",
      "source": [
        "####4.2 확률 오차(Random Error)의 등분산성 확인"
      ],
      "metadata": {
        "id": "vbO7VqaoqOuS"
      }
    },
    {
      "cell_type": "code",
      "source": [
        "model_fitted_y = model_trained.fittedvalues\n",
        "\n",
        "fig, ax = plt.subplots(figsize=(10,6))\n",
        "#https://www.youtube.com/watch?v=UMOtNeFEjaE\n",
        "sns.residplot(data=X_train,x=model_fitted_y,y=y_train, lowess=True, scatter_kws={'alpha':0.5},line_kws={'color':'red'},ax=ax)\n",
        "ax.set_title('Residuals vs Fitted')\n",
        "ax.set(xlabel='Fitted values', ylabel='Residuals')\n"
      ],
      "metadata": {
        "colab": {
          "base_uri": "https://localhost:8080/",
          "height": 581
        },
        "id": "3V1VpWEntLE7",
        "outputId": "0cecf110-6f7e-405f-b565-69e3d8adb972"
      },
      "execution_count": 40,
      "outputs": [
        {
          "output_type": "execute_result",
          "data": {
            "text/plain": [
              "[Text(0.5, 0, 'Fitted values'), Text(0, 0.5, 'Residuals')]"
            ]
          },
          "metadata": {},
          "execution_count": 40
        },
        {
          "output_type": "display_data",
          "data": {
            "text/plain": [
              "<Figure size 1000x600 with 1 Axes>"
            ],
            "image/png": "[encoded data removed]"
          },
          "metadata": {}
        }
      ]
    },
    {
      "cell_type": "markdown",
      "source": [
        "###5.통계적으로 해석하기\n",
        "- R-squared(결정계수): 모델의 성능\n",
        "- coef(회귀계수): X가 한 단위 증가할 때 Y의 변화량\n",
        "- p>|t|가 α(0.05) 이하일때 유의미"
      ],
      "metadata": {
        "id": "qu42Hhhj_81B"
      }
    },
    {
      "cell_type": "code",
      "source": [
        "print(model_trained.summary())"
      ],
      "metadata": {
        "colab": {
          "base_uri": "https://localhost:8080/"
        },
        "id": "wnY9KtmAAHaB",
        "outputId": "43478790-2c97-4cb7-a42a-431324f60b84"
      },
      "execution_count": 42,
      "outputs": [
        {
          "output_type": "stream",
          "name": "stdout",
          "text": [
            "                            OLS Regression Results                            \n",
            "==============================================================================\n",
            "Dep. Variable:                   MEDV   R-squared:                       0.756\n",
            "Model:                            OLS   Adj. R-squared:                  0.748\n",
            "Method:                 Least Squares   F-statistic:                     93.01\n",
            "Date:                Sat, 10 Jun 2023   Prob (F-statistic):          1.02e-110\n",
            "Time:                        15:53:01   Log-Likelihood:                -1196.3\n",
            "No. Observations:                 404   AIC:                             2421.\n",
            "Df Residuals:                     390   BIC:                             2477.\n",
            "Df Model:                          13                                         \n",
            "Covariance Type:            nonrobust                                         \n",
            "==============================================================================\n",
            "                 coef    std err          t      P>|t|      [0.025      0.975]\n",
            "------------------------------------------------------------------------------\n",
            "const         35.0744      5.844      6.002      0.000      23.585      46.564\n",
            "CRIM          -0.1146      0.034     -3.419      0.001      -0.180      -0.049\n",
            "ZN             0.0532      0.015      3.488      0.001       0.023       0.083\n",
            "INDUS          0.0033      0.068      0.048      0.962      -0.131       0.138\n",
            "CHAS           3.5085      1.013      3.464      0.001       1.517       5.500\n",
            "NOX          -18.1357      4.211     -4.307      0.000     -26.414      -9.857\n",
            "RM             3.8252      0.478      8.011      0.000       2.886       4.764\n",
            "AGE            0.0111      0.015      0.714      0.476      -0.019       0.042\n",
            "DIS           -1.5300      0.227     -6.731      0.000      -1.977      -1.083\n",
            "RAD            0.3392      0.071      4.747      0.000       0.199       0.480\n",
            "TAX           -0.0119      0.004     -2.918      0.004      -0.020      -0.004\n",
            "PTRATIO       -0.8842      0.149     -5.920      0.000      -1.178      -0.591\n",
            "B              0.0095      0.003      3.227      0.001       0.004       0.015\n",
            "LSTAT         -0.5782      0.059     -9.850      0.000      -0.694      -0.463\n",
            "==============================================================================\n",
            "Omnibus:                      137.227   Durbin-Watson:                   1.873\n",
            "Prob(Omnibus):                  0.000   Jarque-Bera (JB):              530.658\n",
            "Skew:                           1.475   Prob(JB):                    5.88e-116\n",
            "Kurtosis:                       7.777   Cond. No.                     1.55e+04\n",
            "==============================================================================\n",
            "\n",
            "Notes:\n",
            "[1] Standard Errors assume that the covariance matrix of the errors is correctly specified.\n",
            "[2] The condition number is large, 1.55e+04. This might indicate that there are\n",
            "strong multicollinearity or other numerical problems.\n"
          ]
        }
      ]
    },
    {
      "cell_type": "markdown",
      "source": [
        "###6.기울기에 대한 가설검정\n",
        "- 위 summary에서 p-value값이 높은 INDUS, AGE는 상대적으로 유의하지 않기 때문에 2가지 변수를 제거 후 다시 모델을 구축"
      ],
      "metadata": {
        "id": "xeKz88WoAqnK"
      }
    },
    {
      "cell_type": "code",
      "source": [
        "model = sm.OLS(y_train, X_train.drop(['INDUS','AGE'], axis=1))\n",
        "model_trained = model.fit()\n",
        "print(model_trained.summary())"
      ],
      "metadata": {
        "colab": {
          "base_uri": "https://localhost:8080/"
        },
        "id": "-eO0ReB6B0sR",
        "outputId": "78900c9f-af34-4ffd-a64d-0a197a688241"
      },
      "execution_count": 47,
      "outputs": [
        {
          "output_type": "stream",
          "name": "stdout",
          "text": [
            "                            OLS Regression Results                            \n",
            "==============================================================================\n",
            "Dep. Variable:                   MEDV   R-squared:                       0.756\n",
            "Model:                            OLS   Adj. R-squared:                  0.749\n",
            "Method:                 Least Squares   F-statistic:                     110.3\n",
            "Date:                Sat, 10 Jun 2023   Prob (F-statistic):          1.19e-112\n",
            "Time:                        16:00:47   Log-Likelihood:                -1196.5\n",
            "No. Observations:                 404   AIC:                             2417.\n",
            "Df Residuals:                     392   BIC:                             2465.\n",
            "Df Model:                          11                                         \n",
            "Covariance Type:            nonrobust                                         \n",
            "==============================================================================\n",
            "                 coef    std err          t      P>|t|      [0.025      0.975]\n",
            "------------------------------------------------------------------------------\n",
            "const         34.6295      5.783      5.988      0.000      23.260      45.999\n",
            "CRIM          -0.1149      0.033     -3.441      0.001      -0.181      -0.049\n",
            "ZN             0.0522      0.015      3.449      0.001       0.022       0.082\n",
            "CHAS           3.5374      1.007      3.514      0.000       1.558       5.516\n",
            "NOX          -17.2688      3.883     -4.447      0.000     -24.903      -9.635\n",
            "RM             3.9019      0.463      8.426      0.000       2.991       4.812\n",
            "DIS           -1.5845      0.208     -7.603      0.000      -1.994      -1.175\n",
            "RAD            0.3354      0.068      4.931      0.000       0.202       0.469\n",
            "TAX           -0.0118      0.004     -3.253      0.001      -0.019      -0.005\n",
            "PTRATIO       -0.8708      0.146     -5.949      0.000      -1.159      -0.583\n",
            "B              0.0097      0.003      3.293      0.001       0.004       0.015\n",
            "LSTAT         -0.5624      0.054    -10.385      0.000      -0.669      -0.456\n",
            "==============================================================================\n",
            "Omnibus:                      141.554   Durbin-Watson:                   1.873\n",
            "Prob(Omnibus):                  0.000   Jarque-Bera (JB):              569.018\n",
            "Skew:                           1.511   Prob(JB):                    2.75e-124\n",
            "Kurtosis:                       7.967   Cond. No.                     1.50e+04\n",
            "==============================================================================\n",
            "\n",
            "Notes:\n",
            "[1] Standard Errors assume that the covariance matrix of the errors is correctly specified.\n",
            "[2] The condition number is large, 1.5e+04. This might indicate that there are\n",
            "strong multicollinearity or other numerical problems.\n"
          ]
        }
      ]
    },
    {
      "cell_type": "markdown",
      "source": [
        "###7.미래의 반응변수 값 예측\n",
        "- 학습에 사용된 값이 input으로 들어왔을 때 잘 예측이 되는지 보는 것"
      ],
      "metadata": {
        "id": "wmTSXSuRCSDU"
      }
    },
    {
      "cell_type": "code",
      "source": [
        "y_train_pred= model_trained.fittedvalues\n",
        "\n",
        "plt.figure(figsize=(10,10))\n",
        "plt.title('실제값 vs 모델 출력 값')\n",
        "plt.scatter(y_train, y_train_pred)\n",
        "plt.plot([0,55],[0,55], ls='--',c='r') #(0,0)에서 (55,55)까지 직선\n",
        "plt.xlabel('실제값')\n",
        "plt.ylabel('모델 출력 값')\n",
        "plt.xlim(0,55)\n",
        "plt.ylim(0,55)"
      ],
      "metadata": {
        "colab": {
          "base_uri": "https://localhost:8080/",
          "height": 889
        },
        "id": "reKIIlGZDOIG",
        "outputId": "fc6cac91-ae81-41dc-873d-d8842cd4c838"
      },
      "execution_count": 66,
      "outputs": [
        {
          "output_type": "execute_result",
          "data": {
            "text/plain": [
              "(0.0, 55.0)"
            ]
          },
          "metadata": {},
          "execution_count": 66
        },
        {
          "output_type": "display_data",
          "data": {
            "text/plain": [
              "<Figure size 1000x1000 with 1 Axes>"
            ],
            "image/png": "[encoded data removed]"
          },
          "metadata": {}
        }
      ]
    },
    {
      "cell_type": "code",
      "source": [
        "X_test = sm.add_constant(X_test)"
      ],
      "metadata": {
        "id": "pQKuZMENDrNk"
      },
      "execution_count": 63,
      "outputs": []
    },
    {
      "cell_type": "code",
      "source": [
        "y_test_pred = model_trained.predict(X_test.drop(['INDUS','AGE'], axis=1))\n",
        "y_test_pred.head()"
      ],
      "metadata": {
        "colab": {
          "base_uri": "https://localhost:8080/"
        },
        "id": "gUXG8MxuFwin",
        "outputId": "f547484d-1d16-4dc7-9ea5-915f8ee8408c"
      },
      "execution_count": 68,
      "outputs": [
        {
          "output_type": "execute_result",
          "data": {
            "text/plain": [
              "210    22.787949\n",
              "24     15.482380\n",
              "36     22.346630\n",
              "439    13.433993\n",
              "161    36.890921\n",
              "dtype: float64"
            ]
          },
          "metadata": {},
          "execution_count": 68
        }
      ]
    },
    {
      "cell_type": "markdown",
      "source": [
        "###8.모델 평가"
      ],
      "metadata": {
        "id": "Lnqe1BYoF_JI"
      }
    },
    {
      "cell_type": "markdown",
      "source": [
        "####8.1 Mean Squared Error (평균 제곱 오차)"
      ],
      "metadata": {
        "id": "xeDfoeCcGLc2"
      }
    },
    {
      "cell_type": "code",
      "source": [
        "MSE_test = mean_squared_error(y_test, y_test_pred)\n",
        "MSE_train = mean_squared_error(y_train, y_train_pred)\n",
        "\n",
        "print(f'MSE_train: {MSE_train}, MSE_test:{MSE_test}')\n"
      ],
      "metadata": {
        "colab": {
          "base_uri": "https://localhost:8080/"
        },
        "id": "WLYMCOiwGQ4G",
        "outputId": "ba6bc66d-d713-4755-d780-dd188cf230a0"
      },
      "execution_count": 103,
      "outputs": [
        {
          "output_type": "stream",
          "name": "stdout",
          "text": [
            "MSE_train: 21.881143379080047, MSE_test:23.063158240353822\n"
          ]
        }
      ]
    },
    {
      "cell_type": "markdown",
      "source": [
        "####8.2 Root Mean Squared Error (제곱근 평균 제곱 오차)"
      ],
      "metadata": {
        "id": "_3LEzkRaGXj6"
      }
    },
    {
      "cell_type": "code",
      "source": [
        "RMSE_test = np.sqrt(mean_squared_error(y_test,y_test_pred))\n",
        "RMSE_train = np.sqrt(mean_squared_error(y_train,y_train_pred))\n",
        "print(f'RMSE_train: {RMSE_train}, RMSE_test:{RMSE_test}')"
      ],
      "metadata": {
        "colab": {
          "base_uri": "https://localhost:8080/"
        },
        "id": "VR9iK5LbMTDl",
        "outputId": "979026e9-1e6a-4500-ff72-daaa9004cd13"
      },
      "execution_count": 104,
      "outputs": [
        {
          "output_type": "stream",
          "name": "stdout",
          "text": [
            "RMSE_train: 4.677728442212101, RMSE_test:4.8024117108338205\n"
          ]
        }
      ]
    },
    {
      "cell_type": "markdown",
      "source": [
        "####8.3 Mean Absolute Error (평균 절대 오차)"
      ],
      "metadata": {
        "id": "-p0jzWv6MZ3d"
      }
    },
    {
      "cell_type": "code",
      "source": [
        "MAE_test = mean_absolute_error(y_test,y_test_pred)\n",
        "MAE_train = mean_absolute_error(y_train,y_train_pred)\n",
        "print(f'MAE_train: {MAE_train}, MAE_test:{MAE_test}')"
      ],
      "metadata": {
        "colab": {
          "base_uri": "https://localhost:8080/"
        },
        "id": "MObK9OzTMj2s",
        "outputId": "3c806a8b-1c30-4774-b4ba-251b269fafb7"
      },
      "execution_count": 105,
      "outputs": [
        {
          "output_type": "stream",
          "name": "stdout",
          "text": [
            "MAE_train: 3.315339723533112, MAE_test:3.5123023508951166\n"
          ]
        }
      ]
    },
    {
      "cell_type": "markdown",
      "source": [
        "####8.4 Mean Absolute Percentage Error (평균 절대 백분율 오차)\n",
        "![image.png](data:image/png;base64,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)"
      ],
      "metadata": {
        "id": "olVGzh8bMps9"
      }
    },
    {
      "cell_type": "code",
      "source": [
        "def mean_absolute_percentage_error(y_i, y_i_hat):\n",
        "  y_i, y_i_hat = np.array(y_i), np.array(y_i_hat)\n",
        "  return np.mean(np.abs((y_i-y_i_hat)/y_i))*100\n",
        "\n",
        "MAPE_test = mean_absolute_percentage_error(y_test, y_test_pred)\n",
        "MAPE_train = mean_absolute_percentage_error(y_train, y_train_pred)\n",
        "print(f'MAPE_train: {MAPE_train}, MAPE_test:{MAPE_test}')"
      ],
      "metadata": {
        "colab": {
          "base_uri": "https://localhost:8080/"
        },
        "id": "g377eIFCNR3k",
        "outputId": "f2a6a997-2b33-4077-a49d-6d6a98511bbd"
      },
      "execution_count": 106,
      "outputs": [
        {
          "output_type": "stream",
          "name": "stdout",
          "text": [
            "MAPE_train: 51.17350377693904, MAPE_test:43.94575164039092\n"
          ]
        }
      ]
    },
    {
      "cell_type": "markdown",
      "source": [
        "####8.5 결정계수"
      ],
      "metadata": {
        "id": "IyRY9huuNG4c"
      }
    },
    {
      "cell_type": "code",
      "source": [
        "R2_test = r2_score(y_test, y_test_pred)\n",
        "R2_train = r2_score(y_train, y_train_pred)\n",
        "print(f'R2_train: {R2_train}, R2_test:{R2_test}')"
      ],
      "metadata": {
        "colab": {
          "base_uri": "https://localhost:8080/"
        },
        "id": "lddSk-A-OB20",
        "outputId": "7ea52738-461e-48f5-e615-d989eab158f3"
      },
      "execution_count": 107,
      "outputs": [
        {
          "output_type": "stream",
          "name": "stdout",
          "text": [
            "R2_train: 0.7558046291691819, R2_test:0.6389403215499566\n"
          ]
        }
      ]
    },
    {
      "cell_type": "markdown",
      "source": [
        "####8.6 Train set과 Test set에 대한 성능평가"
      ],
      "metadata": {
        "id": "-xlR62qIONtC"
      }
    },
    {
      "cell_type": "code",
      "source": [
        "#Train set\n",
        "metrics_name = ['MSE', 'RMSE','MAE', 'MAPE','R2']\n",
        "metrics_train = [MSE_train, RMSE_train, MAE_train, MAPE_train, R2_train]\n",
        "\n",
        "for name, value in zip(metrics_name, metrics_train):\n",
        "    print(f'{name}:\\t{value:.3f}')\n"
      ],
      "metadata": {
        "colab": {
          "base_uri": "https://localhost:8080/"
        },
        "id": "ayyLL_D_OnVZ",
        "outputId": "ffb444ff-75a1-483b-8c3a-1ce6248ff753"
      },
      "execution_count": 111,
      "outputs": [
        {
          "output_type": "stream",
          "name": "stdout",
          "text": [
            "MSE:\t21.881\n",
            "RMSE:\t4.678\n",
            "MAE:\t3.315\n",
            "MAPE:\t51.174\n",
            "R2:\t0.756\n"
          ]
        }
      ]
    },
    {
      "cell_type": "code",
      "source": [
        "#Test set\n",
        "metrics_name = ['MSE', 'RMSE','MAE', 'MAPE','R2']\n",
        "metrics_test = [MSE_test, RMSE_test, MAE_test, MAPE_test, R2_test]\n",
        "\n",
        "for name, value in zip(metrics_name, metrics_test):\n",
        "    print(f'{name}:\\t{value:.3f}')"
      ],
      "metadata": {
        "colab": {
          "base_uri": "https://localhost:8080/"
        },
        "id": "XhQEKQlGPwkg",
        "outputId": "85d5d30a-d5ca-4574-e5c3-c762b731fdb4"
      },
      "execution_count": 112,
      "outputs": [
        {
          "output_type": "stream",
          "name": "stdout",
          "text": [
            "MSE:\t23.063\n",
            "RMSE:\t4.802\n",
            "MAE:\t3.512\n",
            "MAPE:\t43.946\n",
            "R2:\t0.639\n"
          ]
        }
      ]
    },
    {
      "cell_type": "markdown",
      "source": [
        "###9.Scikit-learn을 이용한 회귀분석"
      ],
      "metadata": {
        "id": "c_W407OCWox2"
      }
    },
    {
      "cell_type": "code",
      "source": [
        "from sklearn.linear_model import LinearRegression\n",
        "import statsmodels.api as sm"
      ],
      "metadata": {
        "id": "vy1_iRDNW6Ek"
      },
      "execution_count": 114,
      "outputs": []
    },
    {
      "cell_type": "code",
      "source": [
        "lr_skl = LinearRegression(fit_intercept=False) #default: True\n",
        "lr_skl.fit(X_train, y_train) #X를 먼저 입력 받음\n",
        "y_pred_skl = lr_skl.predict(X_test)\n",
        "\n",
        "lr_stat = sm.OLS(y_train, X_train).fit() #y를 먼저 입력 받음\n",
        "y_pred_stat = lr_stat.predict(X_test)"
      ],
      "metadata": {
        "id": "F76FBGR8XLp6"
      },
      "execution_count": 115,
      "outputs": []
    },
    {
      "cell_type": "code",
      "source": [
        "MSE_test = mean_squared_error(y_test, y_pred_stat)\n",
        "RMSE_test = np.sqrt(mean_squared_error(y_test,y_pred_stat))\n",
        "MAE_test = mean_absolute_error(y_test,y_pred_stat)\n",
        "MAPE_test = mean_absolute_percentage_error(y_test, y_pred_stat)\n",
        "R2_test = r2_score(y_test, y_pred_stat)"
      ],
      "metadata": {
        "id": "fSG3Z0_VYHmZ"
      },
      "execution_count": 117,
      "outputs": []
    },
    {
      "cell_type": "code",
      "source": [
        "metrics_name = ['MSE', 'RMSE','MAE', 'MAPE','R2']\n",
        "metrics_test = [MSE_test, RMSE_test, MAE_test, MAPE_test, R2_test]\n",
        "\n",
        "for name, value in zip(metrics_name, metrics_test):\n",
        "    print(f'{name}:\\t{value:.3f}')"
      ],
      "metadata": {
        "colab": {
          "base_uri": "https://localhost:8080/"
        },
        "id": "iuR1zHwhYkIr",
        "outputId": "d7f109e6-1bbf-4e72-d615-22658eeee70b"
      },
      "execution_count": 118,
      "outputs": [
        {
          "output_type": "stream",
          "name": "stdout",
          "text": [
            "MSE:\t23.300\n",
            "RMSE:\t4.827\n",
            "MAE:\t3.519\n",
            "MAPE:\t43.914\n",
            "R2:\t0.635\n"
          ]
        }
      ]
    }
  ]
}